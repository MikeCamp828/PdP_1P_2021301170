{
 "cells": [
  {
   "cell_type": "code",
   "execution_count": 1,
   "id": "b6fd654a",
   "metadata": {},
   "outputs": [],
   "source": [
    "\n",
    "#MIGUEL ANGEL OCAMPO PORCAYO\n",
    "#BOLETA 2021301170\n",
    "#PARADIGMAS DE PROGRAMACION\n",
    "\n",
    "\n",
    "class PilayMinimo: #usaremos una clase para este trabajo que llamaremos PilayMinimo\n",
    "    def __init__(self): #usamos este contructor para la clase\n",
    "        self.stack = []  # La lista se utilizará como el almacenamiento interno de la pila\n",
    "        self.min_stack = []  # La pila auxiliar para realizar un seguimiento del elemento mínimo\n",
    "\n",
    "    def push(self, value):#usaremos una funcion push que usara como parametros la pila de la case, y un valor a agregar\n",
    "        self.stack.append(value)#agregamos el valor a la pila principal usando append\n",
    "        if not self.min_stack or value <= self.min_stack[-1]: #si la pila auxiliar esta vacia o el valor de value es menor que el elemento de la pila aux\n",
    "            self.min_stack.append(value) #entonces el valor de la pila aux sera value\n",
    "\n",
    "    def pop(self): #nos permitira eliminar un elemento de la pila\n",
    "        if not self.stack: #si la pila esta vacia\n",
    "            raise IndexError(\"La pila está vacía\") #codigo de error de que esta vacia\n",
    "        value = self.stack.pop() #si la pila no esta vacia usando pop() eliminaremos el ultimo elemento de la pila pero lo guardaremos en value\n",
    "        if value == self.min_stack[-1]: #si el valor de value es el mismo que el de la pila aux tambien se debe eliminar\n",
    "            self.min_stack.pop() #eliminamos el ultimo elemento de la pila aux usando pop() para gaantizar el valor minimo\n",
    "        return value #retornemos el valor eliminado\n",
    "\n",
    "    def min(self): # nos dira el elemento minimo de la pila\n",
    "        if not self.min_stack: #si ya no quedo ningun elemento en la pila aux\n",
    "            raise IndexError(\"La pila está vacía\") #mandmaos un codigo de error que nos diga que esta vacia la pila\n",
    "        return self.min_stack[-1] #sino va a retornar el valor que haya quedado en la pila aux el cual debe ser ele elemento menor"
   ]
  },
  {
   "cell_type": "code",
   "execution_count": 3,
   "id": "d636ab52",
   "metadata": {},
   "outputs": [
    {
     "name": "stdout",
     "output_type": "stream",
     "text": [
      "3\n"
     ]
    }
   ],
   "source": [
    "stack = PilayMinimo()\n",
    "stack.push(5)\n",
    "stack.push(12)\n",
    "stack.push(23)\n",
    "stack.push(3)\n",
    "\n",
    "print(stack.min())  # Output: 1"
   ]
  },
  {
   "cell_type": "code",
   "execution_count": 37,
   "id": "42d96ce1",
   "metadata": {},
   "outputs": [],
   "source": [
    "#MIGUEL ANGEL OCAMPO PORCAYO\n",
    "#BOLETA 2021301170\n",
    "#PARADIGMAS DE PROGRAMACION\n",
    "\n",
    "class Pila: #declaramos la clase Pila la cual mediante sus metodos nos ayudara a este programa\n",
    "    def __init__(self):#declaramos un constructor de la clase el cual tendra una lista de elementos llamada items\n",
    "        self.items = []\n",
    "\n",
    "    def esta_vacia(self): #declaremos el metodo esta_vacia el cual nos dira si la pila esta vacia\n",
    "        return len(self.items) == 0 #si el tamaño (len) de la lista es cero entonces devolvera true osea que la pila esta vacia\n",
    "\n",
    "    def push(self, elemento): #declaramos el metodo push el cual mediante append agregara a la lista un elemento que es una variable de arguemnto del metodo\n",
    "        self.items.append(elemento)\n",
    "\n",
    "    def pop(self):#declaramos el metodo pop que nos permitira borrar un elemento\n",
    "        if self.esta_vacia(): #condicional if de que si el metodo esta_vacia nos da un true\n",
    "            print(\"La pila está vacía\")#imprimiremos un letrero que diga que la pila esta vacia\n",
    "            return None #y retornara nada para acabar el metodo\n",
    "        return self.items.pop() #de lo contrario retornara el valor que nos brinda la funcion pop() aplicado a la lista items\n",
    "\n",
    "    def top(self): #esta funcion nos permite ver el elemento que esta en la cima de la pila\n",
    "        if not self.esta_vacia():\n",
    "            return self.items[-1] #de lo contrario vamos a retornar el elemento en el tope de la pila\n",
    "\n",
    "    def ordenar(self): #declaramos el metodo ordenar el cual nos permitira ordenar la pila mediante una pila auxiliar\n",
    "        pila_auxiliar = Pila() #declaramos una pila auxiliar de tipo Pila\n",
    "\n",
    "        while not self.esta_vacia(): #declaramos un bucle en el cual mientras el metodo esta vacia no nos devuelva un true osea que meintras no este vacia\n",
    "            temp = self.pop() #guardamos el valor de hacerle un pop a la pila principal en una variable llamada temp\n",
    "            #se hace un 2do bucle  en el cual mientras la pila auxiliar no este vacia y el tope de la pila sea mayor a lo guardado en temp\n",
    "            while not pila_auxiliar.esta_vacia() and pila_auxiliar.top() > temp:\n",
    "                self.push(pila_auxiliar.pop())#agregamos a la pila principal el elemento de la pila auxiliar ya que por orden el\n",
    "                #elemento de la pila auxiliar es mayor  a la pila principal de esta forma se hace una especie de recorrido burbuja\n",
    "            pila_auxiliar.push(temp) #terminado el 2do bucle garantizamos que solo e elemento menor quede en la pila auxiliar\n",
    "\n",
    "        # Copia los elementos ordenados desde la pila auxiliar a la pila original\n",
    "        while not pila_auxiliar.esta_vacia():#mientras la pila auxiliar no este vacia\n",
    "            self.push(pila_auxiliar.pop()) #vamos a vaciar la pila auxiliar a la pila principal ya que los de la auxiliar ya estan ordendos a la inversa\n",
    "\n",
    "    def peek(self): #definimos el metodo peek el cual nos muestra el contenido de la pila\n",
    "        if self.esta_vacia(): #si aplicamos el metodo esta_vacia a la pila y nos devuelve verdadero\n",
    "            print(\"La pila está vacía\") #imprimimos en pantala que la pila esta vacia\n",
    "        else: #de lo contrario, si la pila no esta vacia\n",
    "            contenido = \"Contenido de la pila: \" #creamos una varible y le metemos una cadena de caracteres \"contenido de la pila\"\n",
    "            #la siguinete linea vamos a agregarle a contenido un espacio en blanco para separar la conversion de cada elemento\n",
    "            # en la pila a caracter con srt(), despues join nos va a unir lo que vaya saliendo del for in a la cadena contenido\n",
    "            contenido += \" \".join(str(item) for item in self.items)\n",
    "            print(contenido) #por ultimo vamos a imprimir todo lo que unio la linea anterior que en este caso seria el contenido de la pila"
   ]
  },
  {
   "cell_type": "code",
   "execution_count": 39,
   "id": "cb1e1e51",
   "metadata": {},
   "outputs": [
    {
     "name": "stdout",
     "output_type": "stream",
     "text": [
      "Cuantos numeros seran?5\n",
      "numero 1 : 3\n",
      "numero 2 : 4\n",
      "numero 3 : 2\n",
      "numero 4 : 6\n",
      "numero 5 : 5\n",
      "Pila original:\n",
      "Contenido de la pila: 3 4 2 6 5\n",
      "Pila ordenada:\n",
      "Contenido de la pila: 6 5 4 3 2\n"
     ]
    }
   ],
   "source": [
    "pila = Pila() #se declara un objet de tipo Pila llamado pila\n",
    "\n",
    "n=int(input(\"Cuantos numeros seran?\")) #guardamos en una variable n un numero de lo que escriba el usuario de cuantos numeros seran\n",
    "for i, _ in enumerate(range(n)): #un for que se ejecurara n veces que al munmo tiempo guarda la numeracion de la iteracion en i\n",
    "    num=input(f\"numero {i+1} : \") #num sera el numero que enesimo que introdusca el usuario \n",
    "    pila.push(num)#mismo numero que se va a guardar en la pila\n",
    "print(\"Pila original:\") #letrero de pila original\n",
    "pila.peek() #mostramos el contenido de la pila con el metodo peek\n",
    "\n",
    "pila.ordenar() #ordenamos la pila con la funcion ordenar\n",
    "\n",
    "print(\"Pila ordenada:\") #letrero de pila ordenada\n",
    "pila.peek() #volvemos a mostrar el contenido de la pila"
   ]
  },
  {
   "cell_type": "code",
   "execution_count": 41,
   "id": "e937ce73",
   "metadata": {},
   "outputs": [
    {
     "name": "stdout",
     "output_type": "stream",
     "text": [
      "Punto 1: -9.052092936169165 7.7026920179840275 3.963421110967843\n",
      "Punto 2: -9.313851679120253 8.074278483313744 1.8187566249535365\n",
      "Distancia: 2.1923001387352454\n"
     ]
    }
   ],
   "source": [
    "#MIGUEL ANGEL OCAMPO PORCAYO\n",
    "#BOLETA 2021301170\n",
    "#PARADIGMAS DE PROGRAMACION\n",
    "\n",
    "import math #importamos libreria de funciones matematicas\n",
    "import random #importamos libreria de numeros aleatorios\n",
    "\n",
    "class Punto3D: #hacemos la clase de Punto3D\n",
    "    def __init__(self, x, y, z): #hacemos un constructor que pide tres puntos como parametro\n",
    "        self.x = x #asignamos a cada uno de los puntos con su atributo de la clase\n",
    "        self.y = y\n",
    "        self.z = z\n",
    "#definimos un metodo que se llama calcular distancia que pude como parametro el otro punto\n",
    "    def calcular_distancia(self, otro_punto):\n",
    "        # Calcula la distancia euclidiana entre dos puntos 3D\n",
    "        #la distancia es la raiz de el punto en x actual menos el del otro punto al cadrado, eso para y y z tambien\n",
    "        distancia = math.sqrt((self.x - otro_punto.x)**2 + (self.y - otro_punto.y)**2 + (self.z - otro_punto.z)**2)\n",
    "        return distancia #devolvemos el valor de distancia\n",
    "\n",
    "\n",
    "def encontrar_par_mas_cercano(puntos): #definimos el metodo par mas cercano que pide como argumento una lista de puntos\n",
    "    par_mas_cercano = None #declaramos una variable llamada par mas cercano que sera iniciada en nada\n",
    "    distancia_minima = float('inf') # Al establecer distancia_minima en infinito positivo, se garantiza que cualquier distancia real entre los puntos será menor y se actualizará correctamente.\n",
    "\n",
    "    # Itera sobre todos los pares posibles de puntos y calcula la distancia entre ellos\n",
    "    for i in range(len(puntos)):#permite iterar sobre la lista puntos utilizando los índices de la lista en lugar de los propios elementos\n",
    "        for j in range(i+1, len(puntos)):#En resumen, esta línea permite iterar sobre una secuencia de índices que comienza desde el siguiente\n",
    "            #índice después de i y va hasta el último índice de la lista puntos. Esto se hace para comparar el punto en la posición i con todos los puntos restantes en la lista, sin repetir comparaciones.\n",
    "            distancia = puntos[i].calcular_distancia(puntos[j])#En resumen, esta línea permite calcular la distancia entre dos puntos en el espacio\n",
    "            #tridimensional utilizando el método calcular_distancia de la clase Punto3D. Esto se hace tomando los puntos en las posiciones i y j de la lista puntos y llamando al método correspondiente.\n",
    "               \n",
    "            if distancia < distancia_minima:\n",
    "                # Actualiza el par más cercano y la distancia mínima si se encuentra una distancia más pequeña\n",
    "                distancia_minima = distancia\n",
    "                par_mas_cercano = (puntos[i], puntos[j])#asigno los valores resultaltes a los mas cercanos\n",
    "\n",
    "    return par_mas_cercano #y finalmente los retonamos\n",
    "\n",
    "\n",
    "# Generar 20 puntos aleatorios para probar\n",
    "puntos = []\n",
    "for _ in range(20):\n",
    "    # Genera coordenadas aleatorias dentro del rango (-10, 10)\n",
    "    x = random.uniform(-10, 10)\n",
    "    y = random.uniform(-10, 10)\n",
    "    z = random.uniform(-10, 10)\n",
    "    punto = Punto3D(x, y, z)\n",
    "    puntos.append(punto)\n",
    "\n",
    "# Encontrar el par más cercano de puntos\n",
    "par_cercano = encontrar_par_mas_cercano(puntos)\n",
    "\n",
    "# Imprimir resultados\n",
    "print(\"Punto 1:\", par_cercano[0].x, par_cercano[0].y, par_cercano[0].z)\n",
    "print(\"Punto 2:\", par_cercano[1].x, par_cercano[1].y, par_cercano[1].z)\n",
    "print(\"Distancia:\", par_cercano[0].calcular_distancia(par_cercano[1]))"
   ]
  },
  {
   "cell_type": "code",
   "execution_count": null,
   "id": "db7fb328",
   "metadata": {},
   "outputs": [],
   "source": []
  }
 ],
 "metadata": {
  "kernelspec": {
   "display_name": "Python 3 (ipykernel)",
   "language": "python",
   "name": "python3"
  },
  "language_info": {
   "codemirror_mode": {
    "name": "ipython",
    "version": 3
   },
   "file_extension": ".py",
   "mimetype": "text/x-python",
   "name": "python",
   "nbconvert_exporter": "python",
   "pygments_lexer": "ipython3",
   "version": "3.10.9"
  }
 },
 "nbformat": 4,
 "nbformat_minor": 5
}
